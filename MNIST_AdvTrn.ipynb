{
 "cells": [
  {
   "cell_type": "markdown",
   "metadata": {},
   "source": [
    "## IDS576 - Team 3\n",
    "#### 1) Training MNIST Models:\n",
    "- RFN Model config, with no RFN, but with Adversarial Training\n",
    "- RFN Model config with Both RFN and Adversarial Training \n",
    "\n",
    "#### 2) Evaluate with FSGM Adversary Samples"
   ]
  },
  {
   "cell_type": "code",
   "execution_count": 1,
   "metadata": {},
   "outputs": [],
   "source": [
    "import torch\n",
    "import torch.nn as nn\n",
    "import torch.optim as optim\n",
    "from torch.optim import lr_scheduler\n",
    "from torch.utils.data import SubsetRandomSampler, TensorDataset, DataLoader\n",
    "import torch.nn.functional as F\n",
    "from torchvision import datasets, models, transforms\n",
    "import numpy as np\n",
    "import matplotlib.pyplot as plt\n",
    "import time"
   ]
  },
  {
   "cell_type": "code",
   "execution_count": 2,
   "metadata": {},
   "outputs": [
    {
     "data": {
      "text/plain": [
       "device(type='cuda', index=0)"
      ]
     },
     "execution_count": 2,
     "metadata": {},
     "output_type": "execute_result"
    }
   ],
   "source": [
    "%config IPCompleter.greedy = True\n",
    "random_seed = 0\n",
    "device = torch.device(\"cuda:0\" if torch.cuda.is_available() else \"cpu\")\n",
    "device"
   ]
  },
  {
   "cell_type": "markdown",
   "metadata": {},
   "source": [
    "#### Import MNIST dataset and prepare for training"
   ]
  },
  {
   "cell_type": "code",
   "execution_count": 53,
   "metadata": {},
   "outputs": [],
   "source": [
    "def visualize_mask(orig, mask, inp):\n",
    "    fig, ax = plt.subplots(nrows=1, ncols=3)\n",
    "    #fig.suptitle(f'FGSM sample with epsilon = {eps}', y=.8)\n",
    "    ax[0].set_title(f'Base Input')\n",
    "    ax[0].imshow(orig.cpu().squeeze().numpy(), cmap='gray')\n",
    "    ax[1].set_title(f'Mask')\n",
    "    ax[1].imshow(mask.cpu().squeeze().numpy(), cmap='gray')\n",
    "    ax[2].set_title(f'Masked Input')\n",
    "    ax[2].imshow(inp.cpu().squeeze().numpy(), cmap='gray')\n",
    "    \n",
    "def visualize_attack(orig, inp, perturbation, prior_pred, post_pred, label):\n",
    "    fig, ax = plt.subplots(nrows=1, ncols=3)\n",
    "    fig.suptitle(f'FGSM sample with epsilon = {eps}', y=.8)\n",
    "    ax[0].set_title(f'True: {label}, Pred {prior_pred}')\n",
    "    ax[0].imshow(denormalize(orig).cpu().numpy().transpose(1,2,0))\n",
    "    ax[1].set_title(f'Perturbation')\n",
    "    ax[1].imshow(denormalize(perturbation).numpy().transpose(1,2,0))\n",
    "    ax[2].set_title(f'Adv Pred: {post_pred}')\n",
    "    ax[2].imshow(denormalize(inp.cpu().squeeze()).numpy().transpose(1,2,0))"
   ]
  },
  {
   "cell_type": "code",
   "execution_count": 54,
   "metadata": {},
   "outputs": [],
   "source": [
    "train_transform = transforms.Compose([\n",
    "        transforms.ToTensor()])\n",
    "    \n",
    "val_transform = transforms.Compose([\n",
    "        transforms.ToTensor()])"
   ]
  },
  {
   "cell_type": "code",
   "execution_count": 55,
   "metadata": {},
   "outputs": [],
   "source": [
    "# Download train and test data\n",
    "data_path = '~/IDS576/data'\n",
    "trainset = datasets.MNIST(root=data_path, train=True, download=True, transform=train_transform)\n",
    "valset = datasets.MNIST(root=data_path, train=True, download=True, transform=val_transform)\n",
    "testset = datasets.MNIST(root=data_path, train=False, download=True, transform=val_transform)"
   ]
  },
  {
   "cell_type": "code",
   "execution_count": 56,
   "metadata": {},
   "outputs": [],
   "source": [
    "# Split train data in to train and validation data using torch dataset and utils.data modules\n",
    "\n",
    "val_size = .2\n",
    "n_train = len(trainset)\n",
    "\n",
    "# get train set indices and split point based on val size\n",
    "indices = list(range(n_train))\n",
    "split = int(np.floor(val_size * n_train))\n",
    "\n",
    "# shuffle trainset indices\n",
    "np.random.seed(random_seed)\n",
    "np.random.shuffle(indices)\n",
    "\n",
    "# split train into train and val with shuffled indices at split point. \n",
    "train_idx, val_idx = indices[split:], indices[:split]\n",
    "\n",
    "# Create train and val samplers based in split indices for use with DataLoader batch sampling\n",
    "train_sampler = SubsetRandomSampler(train_idx)\n",
    "val_sampler = SubsetRandomSampler(val_idx)\n",
    "full_train_sampler = SubsetRandomSampler(indices)\n",
    "\n",
    "batch_size = 128 # per paper\n",
    "n_trn = n_train*(1-val_size)\n",
    "batches = n_trn/batch_size\n",
    "\n",
    "# CUDA settings\n",
    "num_workers = 0 # allows preload of next batch, but greater than zero isn't recommended for cuda ops\n",
    "pin_memory = True\n",
    "\n",
    "train_dl = DataLoader(\n",
    "    trainset, batch_size=batch_size, sampler=train_sampler,\n",
    "    num_workers=num_workers, pin_memory=pin_memory)\n",
    "\n",
    "val_dl = DataLoader(\n",
    "    valset, batch_size=batch_size, sampler=val_sampler,\n",
    "    num_workers=num_workers, pin_memory=pin_memory)\n",
    "\n",
    "full_train_dl = DataLoader(\n",
    "    trainset, batch_size=batch_size, sampler=full_train_sampler,\n",
    "    num_workers=num_workers, pin_memory=pin_memory)\n",
    "\n",
    "test_dl = DataLoader(\n",
    "    testset, batch_size=batch_size,\n",
    "    num_workers=num_workers, pin_memory=pin_memory)\n",
    "\n",
    "def single_dl(xy, batch_size=1):\n",
    "    return DataLoader(xy, batch_size=batch_size, num_workers=1, pin_memory=pin_memory)"
   ]
  },
  {
   "cell_type": "code",
   "execution_count": 57,
   "metadata": {},
   "outputs": [
    {
     "name": "stdout",
     "output_type": "stream",
     "text": [
      "['0 - zero', '1 - one', '2 - two', '3 - three', '4 - four', '5 - five', '6 - six', '7 - seven', '8 - eight', '9 - nine']\n"
     ]
    }
   ],
   "source": [
    "classes = trainset.classes\n",
    "classdict = {label: name for label, name in enumerate(classes)}\n",
    "print(classes)"
   ]
  },
  {
   "cell_type": "markdown",
   "metadata": {},
   "source": [
    "#### Train models on MNIST"
   ]
  },
  {
   "cell_type": "code",
   "execution_count": 58,
   "metadata": {},
   "outputs": [],
   "source": [
    "def loss_batch(model, loss_func, xb, yb, opt=None):\n",
    "    xb = xb.to(device)\n",
    "    yb = yb.to(device)\n",
    "    correct = 0\n",
    "    output = model(xb)\n",
    "    _, preds = torch.max(output, 1)\n",
    "    correct = torch.sum(preds == yb)\n",
    "    acc = correct.double()/len(yb)\n",
    "    loss = loss_func(output, yb)\n",
    "    if opt is not None:\n",
    "        loss.backward()\n",
    "        opt.step()\n",
    "        opt.zero_grad()\n",
    "    return loss.item(), len(xb), acc   \n",
    "\n",
    "def fit(epochs, model, loss_func, opt, train_dl, val_dl, adv_train=False, base_model=None, adv_fn=None, eps=None):\n",
    "    mod = n_trn/(batch_size*20)\n",
    "    running_corrects = 0\n",
    "    val_accs = []\n",
    "    val_losses = []\n",
    "    for epoch in range(epochs):\n",
    "        since = time.time()\n",
    "        model.train()\n",
    "        #i=0\n",
    "        print(f'Epoch {epoch+1}/{epochs}: [', end='')\n",
    "        for i, (xb, yb) in enumerate(train_dl):\n",
    "            # Use FGSM samples in training\n",
    "            if adv_train:\n",
    "                xb = adv_fn(base_model, xb, eps=eps)\n",
    "            \n",
    "            if not i % mod:\n",
    "                print('*', end='')\n",
    "            loss_batch(model, loss_func, xb, yb, opt)\n",
    "            #i+=1\n",
    "        print(']', end='')\n",
    "        model.eval()\n",
    "        print(' Val Loss: ', end='')\n",
    "        with torch.no_grad():\n",
    "            losses, nums, acc = zip(*[loss_batch(model, loss_func, xb, yb) for xb, yb in val_dl])\n",
    "        val_loss = np.sum(np.multiply(losses, nums)) / np.sum(nums)\n",
    "        val_acc = np.sum(np.multiply(acc, nums)) / np.sum(nums)\n",
    "        \n",
    "        # Save history\n",
    "        val_losses.append(val_loss)\n",
    "        val_accs.append(val_acc)\n",
    "\n",
    "        print(f'{val_loss:6.4f}, Val Acc: {val_acc:6.4f} ', end='')\n",
    "        until = time.time()\n",
    "        print(f'Elapsed (sec): {until-since:<5.1f}')\n",
    "    return val_accs, val_losses"
   ]
  },
  {
   "cell_type": "markdown",
   "metadata": {},
   "source": [
    "#### Define models from paper appendix"
   ]
  },
  {
   "cell_type": "code",
   "execution_count": 69,
   "metadata": {},
   "outputs": [],
   "source": [
    "class MNIST_RFN(nn.Module):\n",
    "    \n",
    "    def __init__(self):\n",
    "        super(MNIST_RFN, self).__init__()\n",
    "        self.fc1 = nn.Linear(1 * 28 * 28, 784)\n",
    "        self.fc2 = nn.Linear(784, 784)\n",
    "        self.fc3 = nn.Linear(784, 784)\n",
    "        self.fc4 = nn.Linear(784, 10)\n",
    "        self.dropout = nn.Dropout(.25)\n",
    "                             \n",
    "    def forward(self, x):\n",
    "        x = x.view(-1, 1 * 28 * 28)\n",
    "        x = F.relu(self.fc1(x))\n",
    "        x = F.relu(self.fc2(x))\n",
    "        x = F.relu(self.fc3(x))\n",
    "        x = self.dropout(x)\n",
    "        x = self.fc4(x)\n",
    "        return x"
   ]
  },
  {
   "cell_type": "code",
   "execution_count": 70,
   "metadata": {},
   "outputs": [],
   "source": [
    "import torch.nn as nn\n",
    "import torch\n",
    "import numpy as np\n",
    "\n",
    "class RFN(nn.Module):\n",
    "    '''Wrapper class that takes any nn.Module based model and adds an RFN layer prior to all other layers.'''\n",
    "    \n",
    "    \n",
    "    def __init__(self, model, mu=.1, sigma=.05, rfn_flag=True):\n",
    "        super(RFN, self).__init__()\n",
    "        self.model = model\n",
    "        self.mu = mu\n",
    "        self.sigma = sigma\n",
    "        self.rfn_flag = rfn_flag\n",
    "        self.shape_vals = None\n",
    "\n",
    "    def forward(self, x):\n",
    "        if self.rfn_flag:\n",
    "            x = self.random_masks(x) * x\n",
    "            x = self.model(x)\n",
    "        else:\n",
    "            x = self.model(x)\n",
    "        return x\n",
    "    \n",
    "    \n",
    "    def random_masks(self, x):\n",
    "        # Calculate shape values for x\n",
    "        self.shape_vals = x.size(), x[0].size(), x[0].nelement()\n",
    "        # Create ones array of size (batch,channel,horiz,vert)\n",
    "        masks = np.ones(self.shape_vals[0])\n",
    "\n",
    "        # Create random masks for each sample in the batch\n",
    "        for mask in masks:\n",
    "            zero_cnt = np.absolute(int(np.ceil((self.sigma * np.random.randn() + self.mu) * self.shape_vals[2])))\n",
    "            zero_idx = np.random.choice(self.shape_vals[2], zero_cnt, replace=False)\n",
    "            mask.reshape(self.shape_vals[2])[zero_idx] = 0\n",
    "            mask.reshape(self.shape_vals[1])\n",
    "        return torch.tensor(masks, dtype=torch.float, device=device)"
   ]
  },
  {
   "cell_type": "code",
   "execution_count": 71,
   "metadata": {},
   "outputs": [
    {
     "data": {
      "image/png": "[encoded data removed]",
      "text/plain": [
       "<Figure size 432x288 with 3 Axes>"
      ]
     },
     "metadata": {
      "needs_background": "light"
     },
     "output_type": "display_data"
    },
    {
     "data": {
      "image/png": "[encoded data removed]",
      "text/plain": [
       "<Figure size 432x288 with 3 Axes>"
      ]
     },
     "metadata": {
      "needs_background": "light"
     },
     "output_type": "display_data"
    },
    {
     "data": {
      "image/png": "[encoded data removed]",
      "text/plain": [
       "<Figure size 432x288 with 3 Axes>"
      ]
     },
     "metadata": {
      "needs_background": "light"
     },
     "output_type": "display_data"
    },
    {
     "data": {
      "image/png": "[encoded data removed]",
      "text/plain": [
       "<Figure size 432x288 with 3 Axes>"
      ]
     },
     "metadata": {
      "needs_background": "light"
     },
     "output_type": "display_data"
    },
    {
     "data": {
      "image/png": "[encoded data removed]",
      "text/plain": [
       "<Figure size 432x288 with 3 Axes>"
      ]
     },
     "metadata": {
      "needs_background": "light"
     },
     "output_type": "display_data"
    },
    {
     "data": {
      "image/png": "[encoded data removed]",
      "text/plain": [
       "<Figure size 432x288 with 3 Axes>"
      ]
     },
     "metadata": {
      "needs_background": "light"
     },
     "output_type": "display_data"
    }
   ],
   "source": [
    "for mu in [0,.1,.2,.3,.4,.5]:\n",
    "    example_rfn_wrapper = RFN(MNIST_RFN(), mu=mu, sigma=0.05, rfn_flag=True)\n",
    "    inp = trainset[0][0]\n",
    "    mask = example_rfn_wrapper.random_masks(inp)\n",
    "    visualize_mask(inp, mask, mask.cpu()*inp)"
   ]
  },
  {
   "cell_type": "code",
   "execution_count": 89,
   "metadata": {},
   "outputs": [],
   "source": [
    "# Create dictionary to store training history for all models\n",
    "models = {'AdvTrn': MNIST_RFN()}\n",
    "rfn_mu_vals = [0, .5]\n",
    "\n",
    "history = {}\n",
    "for model_name in models.keys():\n",
    "    history[model_name] = {}\n",
    "    for mu in rfn_mu_vals:\n",
    "        history[model_name][mu] = {}"
   ]
  },
  {
   "cell_type": "code",
   "execution_count": 91,
   "metadata": {},
   "outputs": [
    {
     "name": "stdout",
     "output_type": "stream",
     "text": [
      "\n",
      "Training AdvTrn: RFN=False, mu=0:\n",
      "Epoch 1/50: [*******] Val Loss: 2.2252, Val Acc: 0.5798 Elapsed (sec): 4.9  \n",
      "Epoch 2/50: [*******] Val Loss: 1.4849, Val Acc: 0.6155 Elapsed (sec): 4.9  \n",
      "Epoch 3/50: [*******] Val Loss: 0.7340, Val Acc: 0.7864 Elapsed (sec): 4.9  \n",
      "Epoch 4/50: [*******] Val Loss: 0.5622, Val Acc: 0.8292 Elapsed (sec): 4.9  \n",
      "Epoch 5/50: [*******] Val Loss: 0.4940, Val Acc: 0.8534 Elapsed (sec): 4.9  \n",
      "Epoch 6/50: [*******] Val Loss: 0.4665, Val Acc: 0.8596 Elapsed (sec): 4.9  \n",
      "Epoch 7/50: [*******] Val Loss: 0.4401, Val Acc: 0.8705 Elapsed (sec): 4.9  \n",
      "Epoch 8/50: [*******] Val Loss: 0.4331, Val Acc: 0.8710 Elapsed (sec): 4.9  \n",
      "Epoch 9/50: [*******] Val Loss: 0.4114, Val Acc: 0.8793 Elapsed (sec): 4.9  \n",
      "Epoch 10/50: [*******] Val Loss: 0.4013, Val Acc: 0.8806 Elapsed (sec): 4.9  \n",
      "Epoch 11/50: [*******] Val Loss: 0.3893, Val Acc: 0.8840 Elapsed (sec): 4.9  \n",
      "Epoch 12/50: [*******] Val Loss: 0.3887, Val Acc: 0.8840 Elapsed (sec): 4.9  \n",
      "Epoch 13/50: [*******] Val Loss: 0.3745, Val Acc: 0.8893 Elapsed (sec): 5.0  \n",
      "Epoch 14/50: [*******] Val Loss: 0.3593, Val Acc: 0.8946 Elapsed (sec): 4.9  \n",
      "Epoch 15/50: [*******] Val Loss: 0.3484, Val Acc: 0.8973 Elapsed (sec): 4.9  \n",
      "Epoch 16/50: [*******] Val Loss: 0.3545, Val Acc: 0.8944 Elapsed (sec): 4.9  \n",
      "Epoch 17/50: [*******] Val Loss: 0.3358, Val Acc: 0.9005 Elapsed (sec): 4.9  \n",
      "Epoch 18/50: [*******] Val Loss: 0.3258, Val Acc: 0.9037 Elapsed (sec): 4.9  \n",
      "Epoch 19/50: [*******] Val Loss: 0.3298, Val Acc: 0.9012 Elapsed (sec): 5.0  \n",
      "Epoch 20/50: [*******] Val Loss: 0.3251, Val Acc: 0.9032 Elapsed (sec): 4.9  \n",
      "Epoch 21/50: [*******] Val Loss: 0.3060, Val Acc: 0.9087 Elapsed (sec): 5.0  \n",
      "Epoch 22/50: [*******] Val Loss: 0.3093, Val Acc: 0.9092 Elapsed (sec): 4.9  \n",
      "Epoch 23/50: [*******] Val Loss: 0.2931, Val Acc: 0.9106 Elapsed (sec): 5.0  \n",
      "Epoch 24/50: [*******] Val Loss: 0.3011, Val Acc: 0.9094 Elapsed (sec): 5.0  \n",
      "Epoch 25/50: [*******] Val Loss: 0.2943, Val Acc: 0.9106 Elapsed (sec): 4.9  \n",
      "Epoch 26/50: [*******] Val Loss: 0.2815, Val Acc: 0.9154 Elapsed (sec): 4.9  \n",
      "Epoch 27/50: [*******] Val Loss: 0.2784, Val Acc: 0.9158 Elapsed (sec): 4.9  \n",
      "Epoch 28/50: [*******] Val Loss: 0.2740, Val Acc: 0.9180 Elapsed (sec): 5.0  \n",
      "Epoch 29/50: [*******] Val Loss: 0.2789, Val Acc: 0.9152 Elapsed (sec): 5.0  \n",
      "Epoch 30/50: [*******] Val Loss: 0.2739, Val Acc: 0.9182 Elapsed (sec): 5.0  \n",
      "Epoch 31/50: [*******] Val Loss: 0.2718, Val Acc: 0.9184 Elapsed (sec): 5.0  \n",
      "Epoch 32/50: [*******] Val Loss: 0.2651, Val Acc: 0.9197 Elapsed (sec): 5.0  \n",
      "Epoch 33/50: [*******] Val Loss: 0.2655, Val Acc: 0.9213 Elapsed (sec): 5.0  \n",
      "Epoch 34/50: [*******] Val Loss: 0.2569, Val Acc: 0.9234 Elapsed (sec): 4.9  \n",
      "Epoch 35/50: [*******] Val Loss: 0.2542, Val Acc: 0.9232 Elapsed (sec): 4.9  \n",
      "Epoch 36/50: [*******] Val Loss: 0.2579, Val Acc: 0.9224 Elapsed (sec): 4.9  \n",
      "Epoch 37/50: [*******] Val Loss: 0.2607, Val Acc: 0.9204 Elapsed (sec): 4.9  \n",
      "Epoch 38/50: [*******] Val Loss: 0.2547, Val Acc: 0.9215 Elapsed (sec): 4.9  \n",
      "Epoch 39/50: [*******] Val Loss: 0.2566, Val Acc: 0.9215 Elapsed (sec): 4.9  \n",
      "Epoch 40/50: [*******] Val Loss: 0.2472, Val Acc: 0.9255 Elapsed (sec): 4.9  \n",
      "Epoch 41/50: [*******] Val Loss: 0.2484, Val Acc: 0.9257 Elapsed (sec): 4.9  \n",
      "Epoch 42/50: [*******] Val Loss: 0.2476, Val Acc: 0.9253 Elapsed (sec): 4.9  \n",
      "Epoch 43/50: [*******] Val Loss: 0.2470, Val Acc: 0.9245 Elapsed (sec): 4.9  \n",
      "Epoch 44/50: [*******] Val Loss: 0.2389, Val Acc: 0.9264 Elapsed (sec): 4.9  \n",
      "Epoch 45/50: [*******] Val Loss: 0.2497, Val Acc: 0.9253 Elapsed (sec): 4.9  \n",
      "Epoch 46/50: [*******] Val Loss: 0.2400, Val Acc: 0.9283 Elapsed (sec): 4.9  \n",
      "Epoch 47/50: [*******] Val Loss: 0.2446, Val Acc: 0.9252 Elapsed (sec): 4.9  \n",
      "Epoch 48/50: [*******] Val Loss: 0.2455, Val Acc: 0.9291 Elapsed (sec): 4.9  \n",
      "Epoch 49/50: [*******] Val Loss: 0.2399, Val Acc: 0.9264 Elapsed (sec): 4.9  \n",
      "Epoch 50/50: [*******] Val Loss: 0.2426, Val Acc: 0.9284 Elapsed (sec): 4.9  \n",
      "Training AdvTrn: RFN=True, mu=0.5:\n",
      "Epoch 1/50: [*******] Val Loss: 0.4540, Val Acc: 0.8561 Elapsed (sec): 9.2  \n",
      "Epoch 2/50: [*******] Val Loss: 0.4141, Val Acc: 0.8691 Elapsed (sec): 9.2  \n",
      "Epoch 3/50: [*******] Val Loss: 0.3996, Val Acc: 0.8718 Elapsed (sec): 9.3  \n",
      "Epoch 4/50: [*******] Val Loss: 0.3873, Val Acc: 0.8731 Elapsed (sec): 9.3  \n",
      "Epoch 5/50: [*******] Val Loss: 0.3682, Val Acc: 0.8838 Elapsed (sec): 9.2  \n",
      "Epoch 6/50: [*******] Val Loss: 0.3563, Val Acc: 0.8850 Elapsed (sec): 9.3  \n",
      "Epoch 7/50: [*******] Val Loss: 0.3584, Val Acc: 0.8836 Elapsed (sec): 9.3  \n",
      "Epoch 8/50: [*******] Val Loss: 0.3589, Val Acc: 0.8826 Elapsed (sec): 9.3  \n",
      "Epoch 9/50: [*******] Val Loss: 0.3301, Val Acc: 0.8924 Elapsed (sec): 9.2  \n",
      "Epoch 10/50: [*******] Val Loss: 0.3339, Val Acc: 0.8956 Elapsed (sec): 9.2  \n",
      "Epoch 11/50: [*******] Val Loss: 0.3418, Val Acc: 0.8911 Elapsed (sec): 9.3  \n",
      "Epoch 12/50: [*******] Val Loss: 0.3297, Val Acc: 0.8974 Elapsed (sec): 9.2  \n",
      "Epoch 13/50: [*******] Val Loss: 0.3295, Val Acc: 0.8962 Elapsed (sec): 9.2  \n",
      "Epoch 14/50: [*******] Val Loss: 0.3475, Val Acc: 0.8932 Elapsed (sec): 9.3  \n",
      "Epoch 15/50: [*******] Val Loss: 0.3203, Val Acc: 0.9006 Elapsed (sec): 9.2  \n",
      "Epoch 16/50: [*******] Val Loss: 0.3341, Val Acc: 0.8963 Elapsed (sec): 9.2  \n",
      "Epoch 17/50: [*******] Val Loss: 0.3264, Val Acc: 0.9018 Elapsed (sec): 9.2  \n",
      "Epoch 18/50: [*******] Val Loss: 0.3132, Val Acc: 0.9002 Elapsed (sec): 9.3  \n",
      "Epoch 19/50: [*******] Val Loss: 0.3114, Val Acc: 0.9003 Elapsed (sec): 9.2  \n",
      "Epoch 20/50: [*******] Val Loss: 0.3192, Val Acc: 0.8997 Elapsed (sec): 9.2  \n",
      "Epoch 21/50: [*******] Val Loss: 0.3245, Val Acc: 0.8984 Elapsed (sec): 9.2  \n",
      "Epoch 22/50: [*******] Val Loss: 0.3114, Val Acc: 0.9047 Elapsed (sec): 9.3  \n",
      "Epoch 23/50: [*******] Val Loss: 0.3045, Val Acc: 0.9028 Elapsed (sec): 9.2  \n",
      "Epoch 24/50: [*******] Val Loss: 0.3090, Val Acc: 0.9034 Elapsed (sec): 9.2  \n",
      "Epoch 25/50: [*******] Val Loss: 0.2937, Val Acc: 0.9047 Elapsed (sec): 9.3  \n",
      "Epoch 26/50: [*******] Val Loss: 0.3120, Val Acc: 0.9010 Elapsed (sec): 9.2  \n",
      "Epoch 27/50: [*******] Val Loss: 0.2889, Val Acc: 0.9072 Elapsed (sec): 9.2  \n",
      "Epoch 28/50: [*******] Val Loss: 0.3318, Val Acc: 0.8978 Elapsed (sec): 9.2  \n",
      "Epoch 29/50: [*******] Val Loss: 0.3031, Val Acc: 0.9017 Elapsed (sec): 9.3  \n",
      "Epoch 30/50: [*******] Val Loss: 0.3098, Val Acc: 0.8996 Elapsed (sec): 9.2  \n",
      "Epoch 31/50: [*******] Val Loss: 0.2834, Val Acc: 0.9145 Elapsed (sec): 9.2  \n",
      "Epoch 32/50: [*******] Val Loss: 0.2936, Val Acc: 0.9082 Elapsed (sec): 9.2  \n",
      "Epoch 33/50: [*******] Val Loss: 0.3051, Val Acc: 0.9009 Elapsed (sec): 9.2  \n",
      "Epoch 34/50: [*******] Val Loss: 0.2858, Val Acc: 0.9063 Elapsed (sec): 9.3  \n",
      "Epoch 35/50: [*******] Val Loss: 0.2907, Val Acc: 0.9115 Elapsed (sec): 9.3  \n",
      "Epoch 36/50: [*******] Val Loss: 0.2854, Val Acc: 0.9094 Elapsed (sec): 9.2  \n",
      "Epoch 37/50: [*******] Val Loss: 0.2801, Val Acc: 0.9130 Elapsed (sec): 9.2  \n",
      "Epoch 38/50: [*******] Val Loss: 0.2899, Val Acc: 0.9080 Elapsed (sec): 9.2  \n",
      "Epoch 39/50: [*******] Val Loss: 0.2843, Val Acc: 0.9103 Elapsed (sec): 9.2  \n",
      "Epoch 40/50: [*******] Val Loss: 0.2832, Val Acc: 0.9100 Elapsed (sec): 9.3  \n",
      "Epoch 41/50: [*******] Val Loss: 0.2811, Val Acc: 0.9082 Elapsed (sec): 9.2  \n",
      "Epoch 42/50: [*******] Val Loss: 0.2847, Val Acc: 0.9113 Elapsed (sec): 9.2  \n",
      "Epoch 43/50: [*******] Val Loss: 0.2869, Val Acc: 0.9082 Elapsed (sec): 9.2  \n",
      "Epoch 44/50: [*******] Val Loss: 0.2982, Val Acc: 0.9069 Elapsed (sec): 9.2  \n",
      "Epoch 45/50: [*******] Val Loss: 0.2612, Val Acc: 0.9175 Elapsed (sec): 9.2  \n",
      "Epoch 46/50: [*******] Val Loss: 0.2932, Val Acc: 0.9084 Elapsed (sec): 9.2  \n",
      "Epoch 47/50: [*******] Val Loss: 0.2918, Val Acc: 0.9114 Elapsed (sec): 9.3  \n",
      "Epoch 48/50: [*******] Val Loss: 0.2565, Val Acc: 0.9204 Elapsed (sec): 9.2  \n",
      "Epoch 49/50: [*******] Val Loss: 0.2758, Val Acc: 0.9122 Elapsed (sec): 9.3  \n",
      "Epoch 50/50: [*******] Val Loss: 0.2743, Val Acc: 0.9116 Elapsed (sec): 9.2  \n"
     ]
    }
   ],
   "source": [
    "# Train model with adversarial samples and then with adv samples and RFN=50 using paper hyperparameters\n",
    "# Given previous experiement with epochs, skipping directly to 25 epochs and test eval\n",
    "\n",
    "models = {'AdvTrn': MNIST_RFN()}\n",
    "base_model = MNIST_RFN()\n",
    "base_model.load_state_dict(torch.load(f'./models/Full_MNIST_RFN_0.pth'))\n",
    "base_model.to(device)\n",
    "\n",
    "adv_train = True\n",
    "rfn_mu_vals = [0, .5]\n",
    "eps = 40\n",
    "epochs = 50\n",
    "\n",
    "for model_name, model_instance in models.items():\n",
    "    print()\n",
    "    for mu in rfn_mu_vals:    \n",
    "        # Set whether RFN will be used in training\n",
    "        if mu == 0:\n",
    "            rfn_flag = False\n",
    "        else:\n",
    "            rfn_flag = True\n",
    "            \n",
    "        print(f'Training {model_name}: RFN={rfn_flag}, mu={mu}:')     \n",
    "        model = model_instance\n",
    "        model.to(device)\n",
    "        rfn_wrapper = RFN(model, mu=mu, sigma=.05, rfn_flag=rfn_flag)\n",
    "        rfn_wrapper.to(device)\n",
    "    \n",
    "        loss_func = nn.CrossEntropyLoss()\n",
    "        opt = optim.SGD(model.parameters(), lr=0.01) # Opt and LR per paper\n",
    "        \n",
    "        # Save tuple of epoch val accuracy and val loss to history dict\n",
    "        history[model_name][mu] = fit(epochs, rfn_wrapper, loss_func, opt, full_train_dl, test_dl,\\\n",
    "                                     adv_train=adv_train, base_model=base_model, adv_fn=fgsm_batch, eps=eps)\n",
    "\n",
    "        # Save model\n",
    "        PATH = f'./models/Full_MNIST_{model_name}_{mu}.pth'\n",
    "        torch.save(model.state_dict(), PATH)"
   ]
  },
  {
   "cell_type": "code",
   "execution_count": 92,
   "metadata": {},
   "outputs": [],
   "source": [
    "import pickle\n",
    "with open('./models/fulltrain50_adv_mnist_history.pkl', 'wb') as f:\n",
    "    pickle.dump(history, f)"
   ]
  },
  {
   "cell_type": "code",
   "execution_count": 93,
   "metadata": {},
   "outputs": [],
   "source": [
    "with open('./models/fulltrain50_adv_mnist_history.pkl', 'rb') as f:\n",
    "    history = pickle.load(f)"
   ]
  },
  {
   "cell_type": "code",
   "execution_count": 94,
   "metadata": {},
   "outputs": [
    {
     "data": {
      "text/plain": [
       "<matplotlib.legend.Legend at 0x7fe2ec0cf518>"
      ]
     },
     "execution_count": 94,
     "metadata": {},
     "output_type": "execute_result"
    },
    {
     "data": {
      "image/png": "[encoded data removed]",
      "text/plain": [
       "<Figure size 1080x432 with 2 Axes>"
      ]
     },
     "metadata": {
      "needs_background": "light"
     },
     "output_type": "display_data"
    }
   ],
   "source": [
    "import matplotlib.pyplot as plt\n",
    "\n",
    "colors = ['k', 'r', 'b', 'g', 'm', 'c']\n",
    "linestyles = ['-', '-.', '--'] #Standard=solid, Dropout=dashdot, RFN=dash\n",
    "\n",
    "fig, ax = plt.subplots(nrows=1, ncols=2, figsize=(15,6))\n",
    "fig.suptitle('MNIST Training History')\n",
    "ax[0].set_title('Test Accuracy')\n",
    "ax[1].set_title('Test Loss')\n",
    "for linestyle, model_name in zip(linestyles, models.keys()):\n",
    "    for color, (mu, vals) in zip(colors, history[model_name].items()):\n",
    "        try:\n",
    "            acc, loss = vals\n",
    "            ax[0].plot(range(len(acc)), acc, color+linestyle, label=f'{model_name}: {mu}')\n",
    "            ax[1].plot(range(len(loss)), loss, color+linestyle, label=f'{model_name}: {mu}')\n",
    "        except:\n",
    "            continue\n",
    "ax[0].legend(title='Model: RFN Rate')\n",
    "ax[1].legend(title='Model: RFN Rate')"
   ]
  },
  {
   "cell_type": "markdown",
   "metadata": {},
   "source": [
    "#### Evaluate Models with FSGM Samples"
   ]
  },
  {
   "cell_type": "code",
   "execution_count": 95,
   "metadata": {},
   "outputs": [],
   "source": [
    "def fgsm_batch(net, orig, eps=15):\n",
    "    '''Given a pytorch CNN model, original image as tensor, and value for epsilon, create adversarial sample\n",
    "    using fast gradient sign method (FGSM) described in arXiv:1412.6572v3'''\n",
    "    # Create input tensor from original image, unsqeezing by a dim to account for model expected batch dim\n",
    "    # float cast is likely not needed after normalization, but as float is required for cuda execution,\n",
    "    # it's best to ensure float data\n",
    "    inp = orig.float().clone().detach().to(device).requires_grad_(True)\n",
    "    \n",
    "    # Make prediction prior to attack to use in calulating gradients\n",
    "    prior_out = net(inp)\n",
    "    prior_pred = prior_out.argmax(axis=1)\n",
    "    \n",
    "    # Use prediction vector to compute loss and then compute gradients from loss to use in attack\n",
    "    #loss = criterion(prior_out, prior_pred.unsqueeze(0))\n",
    "    criterion = nn.CrossEntropyLoss()\n",
    "    loss = criterion(prior_out, prior_pred)\n",
    "    loss.backward()\n",
    "    \n",
    "    # Actual FSGM method\n",
    "    #print(orig.min(), orig.max())\n",
    "    inp.data = inp.data + ((eps/255.0) * torch.sign(inp.grad.data))\n",
    "    inp.data = inp.data.clamp(min=orig.min(), max=orig.max())\n",
    "    #print(inp.min(), inp.max())\n",
    "    '''\n",
    "    # Predict on attack sample\n",
    "    post_pred = torch.argmax(net(inp).data)\n",
    "    \n",
    "    # Create perturbation mask\n",
    "    perturbation = torch.empty_like(orig)\n",
    "    adv = inp.data.cpu()[0]\n",
    "    perturbation = adv - orig'''\n",
    "    \n",
    "    return inp"
   ]
  },
  {
   "cell_type": "code",
   "execution_count": 96,
   "metadata": {},
   "outputs": [],
   "source": [
    "def evaluate(net, dataloader, eps=15, adv=False):\n",
    "    correct = 0\n",
    "    count = 0\n",
    "    for i, data in enumerate(dataloader):\n",
    "        # get the inputs; data is a list of [inputs, labels]\n",
    "        inputs, labels = data\n",
    "        inputs = inputs.to(device)\n",
    "        labels = labels.to(device)\n",
    "        if adv:\n",
    "            inputs = fgsm_batch(net, inputs, eps = eps)\n",
    "        preds = net(inputs)\n",
    "        for pred, label in zip(preds, labels):\n",
    "            if torch.argmax(pred) == label:\n",
    "                correct += 1.0\n",
    "            count += 1.0\n",
    "        if not i % 5000:\n",
    "            print(f'Sample: {i}, Running Accuracy: {(correct/count):5.3f}')\n",
    "    acc = correct/count\n",
    "    print(f'Accuracy over {int(count)} samples: {acc:5.3f}')\n",
    "    return acc"
   ]
  },
  {
   "cell_type": "code",
   "execution_count": 97,
   "metadata": {},
   "outputs": [],
   "source": [
    "# Create accuracy dictionary\n",
    "models = {'AdvTrn': MNIST_RFN()}\n",
    "rfn_mu_vals = [0, .5]\n",
    "epsilons = [0, 40, 60, 90]\n",
    "\n",
    "analysis = {}\n",
    "for model_name in models.keys():\n",
    "    analysis[model_name] = {}\n",
    "    for mu in rfn_mu_vals:\n",
    "        analysis[model_name][mu] = {}\n",
    "        for eps in epsilons:\n",
    "            analysis[model_name][mu][eps] = []"
   ]
  },
  {
   "cell_type": "code",
   "execution_count": 98,
   "metadata": {},
   "outputs": [
    {
     "name": "stdout",
     "output_type": "stream",
     "text": [
      "\n",
      "Evaluate MNIST AdvTrn, eps=0, mu=0:\n",
      "Sample: 0, Running Accuracy: 0.961\n",
      "Accuracy over 10000 samples: 0.928\n",
      "Evaluate MNIST AdvTrn, eps=0, mu=0.5:\n",
      "Sample: 0, Running Accuracy: 0.961\n",
      "Accuracy over 10000 samples: 0.916\n",
      "Evaluate MNIST AdvTrn, eps=40, mu=0:\n",
      "Sample: 0, Running Accuracy: 0.031\n",
      "Accuracy over 10000 samples: 0.048\n",
      "Evaluate MNIST AdvTrn, eps=40, mu=0.5:\n",
      "Sample: 0, Running Accuracy: 0.188\n",
      "Accuracy over 10000 samples: 0.198\n",
      "Evaluate MNIST AdvTrn, eps=60, mu=0:\n",
      "Sample: 0, Running Accuracy: 0.031\n",
      "Accuracy over 10000 samples: 0.041\n",
      "Evaluate MNIST AdvTrn, eps=60, mu=0.5:\n",
      "Sample: 0, Running Accuracy: 0.039\n",
      "Accuracy over 10000 samples: 0.086\n",
      "Evaluate MNIST AdvTrn, eps=90, mu=0:\n",
      "Sample: 0, Running Accuracy: 0.031\n",
      "Accuracy over 10000 samples: 0.032\n",
      "Evaluate MNIST AdvTrn, eps=90, mu=0.5:\n",
      "Sample: 0, Running Accuracy: 0.047\n",
      "Accuracy over 10000 samples: 0.061\n"
     ]
    }
   ],
   "source": [
    "# load MNIST models\n",
    "'''val_dl = DataLoader(\n",
    "    valset, batch_size=1, sampler=val_sampler,\n",
    "    num_workers=num_workers, pin_memory=pin_memory)'''\n",
    "\n",
    "models = {'AdvTrn': MNIST_RFN()}\n",
    "rfn_mu_vals = [0, .5]\n",
    "epsilons = [0, 40, 60, 90]  # Corresponds to 0 .15, .25, and .35 in paper\n",
    "\n",
    "# Evaluate pretrained MNIST DNNs with and without FSGM attack, set sigma on RFN = 0 \n",
    "for model_name, model_instance in models.items():\n",
    "    print()\n",
    "    for eps in epsilons:\n",
    "        if eps == 0:\n",
    "            adv = False\n",
    "        else:\n",
    "            adv = True\n",
    "        for mu in rfn_mu_vals:\n",
    "            if mu == 0:\n",
    "                rfn_flag = False\n",
    "            else:\n",
    "                rfn_flag = True\n",
    "\n",
    "            model = model_instance\n",
    "            # Set sigma to zero per paper\n",
    "            rfn_wrapper = RFN(model, mu=mu, sigma=0, rfn_flag=rfn_flag)\n",
    "            # Trained on Train data:\n",
    "            #model.load_state_dict(torch.load(f'./models/CIFAR_{model_name}_{mu}.pth'))\n",
    "            \n",
    "            # Trained on Full Train data:\n",
    "            model.load_state_dict(torch.load(f'./models/Full_MNIST_{model_name}_{mu}.pth'))\n",
    "            model.to(device)\n",
    "            model.eval()\n",
    "            criterion = nn.CrossEntropyLoss()\n",
    "\n",
    "            print(f'Evaluate MNIST {model_name}, eps={eps}, mu={mu}:')\n",
    "            analysis[model_name][mu][eps] = evaluate(rfn_wrapper, test_dl, eps=eps, adv=adv)\n"
   ]
  },
  {
   "cell_type": "code",
   "execution_count": 99,
   "metadata": {},
   "outputs": [],
   "source": [
    "import pickle\n",
    "with open('./models/fulltrain50_adv_mnist_analysis.pkl', 'wb') as f:\n",
    "    pickle.dump(analysis, f)\n",
    "\n",
    "with open('./models/fulltrain50_adv_mnist_analysis.pkl', 'rb') as f:\n",
    "    analysis = pickle.load(f)"
   ]
  },
  {
   "cell_type": "code",
   "execution_count": 100,
   "metadata": {},
   "outputs": [
    {
     "name": "stdout",
     "output_type": "stream",
     "text": [
      "MNIST FullTrain/Test vs FGSM\n",
      "\t\tFSGM Epsilons:\n",
      "MU  Model\t0    \t40   \t60   \t90   \n",
      "0   AdvTrn    \t0.9284\t0.048\t0.0408\t0.0324\t\n",
      "0.5 AdvTrn    \t0.9156\t0.1978\t0.0863\t0.0606\t\n"
     ]
    }
   ],
   "source": [
    "print('MNIST FullTrain/Test vs FGSM')\n",
    "print('\\t\\tFSGM Epsilons:')\n",
    "print(f'MU  Model\\t{0:<5}\\t{40:<5}\\t{60:<5}\\t{90:<5}')\n",
    "for model_name in models.keys():\n",
    "    for mu in rfn_mu_vals:\n",
    "        print(f'{mu:<4}{model_name:<10}\\t', end='')\n",
    "        for eps in epsilons:\n",
    "            print(f'{analysis[model_name][mu][eps]:.4}\\t', end='')\n",
    "        print()"
   ]
  },
  {
   "cell_type": "code",
   "execution_count": 127,
   "metadata": {},
   "outputs": [],
   "source": [
    "def visualize_attack(orig, inp):\n",
    "    fig, ax = plt.subplots(nrows=1, ncols=3)\n",
    "    fig.suptitle(f'FGSM sample with epsilon = {eps}', y=.8)\n",
    "    #ax[0].set_title(f'True: {label}, Pred {prior_pred}')\n",
    "    ax[0].set_title(f'Pred: {torch.argmax(model(orig.to(device)))}')\n",
    "    ax[0].imshow(orig.cpu().squeeze(), cmap='gray')\n",
    "    ax[1].set_title(f'Perturbation')\n",
    "    ax[1].imshow((inp.data.cpu() - orig).squeeze(), cmap='gray')\n",
    "    ax[2].set_title(f'Adv Pred: {torch.argmax(model(inp))}')\n",
    "    ax[2].imshow(inp.detach().cpu().squeeze(), cmap='gray')"
   ]
  },
  {
   "cell_type": "code",
   "execution_count": 128,
   "metadata": {},
   "outputs": [
    {
     "data": {
      "image/png": "[encoded data removed]",
      "text/plain": [
       "<Figure size 432x288 with 3 Axes>"
      ]
     },
     "metadata": {
      "needs_background": "light"
     },
     "output_type": "display_data"
    },
    {
     "data": {
      "image/png": "[encoded data removed]",
      "text/plain": [
       "<Figure size 432x288 with 3 Axes>"
      ]
     },
     "metadata": {
      "needs_background": "light"
     },
     "output_type": "display_data"
    },
    {
     "data": {
      "image/png": "[encoded data removed]",
      "text/plain": [
       "<Figure size 432x288 with 3 Axes>"
      ]
     },
     "metadata": {
      "needs_background": "light"
     },
     "output_type": "display_data"
    },
    {
     "data": {
      "image/png": "[encoded data removed]",
      "text/plain": [
       "<Figure size 432x288 with 3 Axes>"
      ]
     },
     "metadata": {
      "needs_background": "light"
     },
     "output_type": "display_data"
    }
   ],
   "source": [
    "orig = trainset[0][0]\n",
    "\n",
    "for eps in epsilons:\n",
    "    inp = fgsm_batch(model, orig, eps=eps)\n",
    "    visualize_attack(orig, inp)"
   ]
  },
  {
   "cell_type": "code",
   "execution_count": null,
   "metadata": {},
   "outputs": [],
   "source": []
  },
  {
   "cell_type": "code",
   "execution_count": null,
   "metadata": {},
   "outputs": [],
   "source": []
  },
  {
   "cell_type": "code",
   "execution_count": null,
   "metadata": {},
   "outputs": [],
   "source": []
  },
  {
   "cell_type": "code",
   "execution_count": null,
   "metadata": {},
   "outputs": [],
   "source": []
  }
 ],
 "metadata": {
  "kernelspec": {
   "display_name": "Python 3",
   "language": "python",
   "name": "python3"
  },
  "language_info": {
   "codemirror_mode": {
    "name": "ipython",
    "version": 3
   },
   "file_extension": ".py",
   "mimetype": "text/x-python",
   "name": "python",
   "nbconvert_exporter": "python",
   "pygments_lexer": "ipython3",
   "version": "3.7.3"
  }
 },
 "nbformat": 4,
 "nbformat_minor": 2
}
